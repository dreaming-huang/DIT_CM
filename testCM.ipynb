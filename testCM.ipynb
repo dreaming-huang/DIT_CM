{
 "cells": [
  {
   "cell_type": "code",
   "execution_count": null,
   "metadata": {},
   "outputs": [],
   "source": [
    "import torch\n",
    "import os\n",
    "from torchvision.utils import save_image\n",
    "\n",
    "os.environ['HF_ENDPOINT'] = 'https://hf-mirror.com'\n",
    "\n",
    "from diffusers import ConsistencyModelPipeline\n",
    "\n",
    "device = \"cuda\"\n",
    "# Load the cd_imagenet64_l2 checkpoint.\n",
    "model_id_or_path = \"openai/diffusers-cd_cat256_lpips\"\n",
    "pipe = ConsistencyModelPipeline.from_pretrained(model_id_or_path, torch_dtype=torch.float16)\n",
    "pipe.to(device)\n",
    "\n",
    "# Onestep Sampling\n",
    "image = pipe(num_inference_steps=1).images[0]\n",
    "image.save(\"consistency_model_onestep_sample.png\")\n",
    "\n",
    "# Onestep sampling, class-conditional image generation\n",
    "# ImageNet-64 class label 145 corresponds to king penguins\n",
    "\n",
    "class_id = 145\n",
    "class_id = torch.tensor(class_id, dtype=torch.long)\n",
    "\n",
    "image = pipe(num_inference_steps=1, class_labels=class_id).images[0]\n",
    "image.save(\"consistency_model_onestep_sample_penguin.png\")\n",
    "\n",
    "# Multistep sampling, class-conditional image generation\n",
    "# Timesteps can be explicitly specified; the particular timesteps below are from the original Github repo.\n",
    "# https://github.com/openai/consistency_models/blob/main/scripts/launch.sh#L77\n",
    "image = pipe(timesteps=[22, 0], class_labels=class_id).images[0]\n",
    "image.save(\"consistency_model_multistep_sample_penguin.png\")"
   ]
  }
 ],
 "metadata": {
  "language_info": {
   "name": "python"
  }
 },
 "nbformat": 4,
 "nbformat_minor": 2
}
